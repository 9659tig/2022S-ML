{
  "nbformat": 4,
  "nbformat_minor": 0,
  "metadata": {
    "colab": {
      "name": "HW3.ipynb의 사본",
      "provenance": [],
      "collapsed_sections": [],
      "include_colab_link": true
    },
    "kernelspec": {
      "name": "python3",
      "display_name": "Python 3"
    },
    "language_info": {
      "name": "python"
    }
  },
  "cells": [
    {
      "cell_type": "markdown",
      "metadata": {
        "id": "view-in-github",
        "colab_type": "text"
      },
      "source": [
        "<a href=\"https://colab.research.google.com/github/9659tig/2022S-ML/blob/main/HW3_ipynb%EC%9D%98_%EC%82%AC%EB%B3%B8.ipynb\" target=\"_parent\"><img src=\"https://colab.research.google.com/assets/colab-badge.svg\" alt=\"Open In Colab\"/></a>"
      ]
    },
    {
      "cell_type": "markdown",
      "source": [
        "# **HW3 :: Parameter Tuning and Classifcation**"
      ],
      "metadata": {
        "id": "m1rbIpJvJD_m"
      }
    },
    {
      "cell_type": "markdown",
      "source": [
        "## 코랩과 구글 드라이브 연동 OR 로컬에서 파일 업로드\n",
        "- 해당 섹션 코드 수정 가능"
      ],
      "metadata": {
        "id": "6c34x6aJI_kE"
      }
    },
    {
      "cell_type": "code",
      "source": [
        "# 연동 OR 파일 업로드\n",
        "# 연동 시 path 설정 주의"
      ],
      "metadata": {
        "id": "PLXjmIbsJMlk"
      },
      "execution_count": null,
      "outputs": []
    },
    {
      "cell_type": "code",
      "source": [
        "from google.colab import drive\n",
        "drive.mount('/content/drive')"
      ],
      "metadata": {
        "colab": {
          "base_uri": "https://localhost:8080/"
        },
        "id": "4VXRY6hDJ60i",
        "outputId": "c6a56947-55f1-4d6c-809f-d58ac0997f3a"
      },
      "execution_count": 36,
      "outputs": [
        {
          "output_type": "stream",
          "name": "stdout",
          "text": [
            "Drive already mounted at /content/drive; to attempt to forcibly remount, call drive.mount(\"/content/drive\", force_remount=True).\n"
          ]
        }
      ]
    },
    {
      "cell_type": "markdown",
      "source": [
        "## 데이터 불러오기"
      ],
      "metadata": {
        "id": "HR6Kw9YhJV8A"
      }
    },
    {
      "cell_type": "code",
      "execution_count": 37,
      "metadata": {
        "id": "29BsCuUtKjKA"
      },
      "outputs": [],
      "source": [
        "import numpy as np\n",
        "import pandas as pd"
      ]
    },
    {
      "cell_type": "code",
      "source": [
        "path = 'heart_clean.csv' # 제공된 csv 파일 사용\n",
        "df = pd.read_csv(path)"
      ],
      "metadata": {
        "id": "KCR3D9shItY9"
      },
      "execution_count": 38,
      "outputs": []
    },
    {
      "cell_type": "code",
      "source": [
        "df.head()"
      ],
      "metadata": {
        "colab": {
          "base_uri": "https://localhost:8080/",
          "height": 206
        },
        "id": "S9v7sEpoL0jf",
        "outputId": "bb1f0c21-66de-4329-8ea3-c0c7ff17a769"
      },
      "execution_count": 39,
      "outputs": [
        {
          "output_type": "execute_result",
          "data": {
            "text/plain": [
              "   Age  RestingBP  FastingBS  ExerciseAngina  Oldpeak  HeartDisease\n",
              "0   53        120          0               0      0.0             0\n",
              "1   65        134          0               1      1.1             1\n",
              "2   60        160          0               1      0.5             1\n",
              "3   57        150          1               0      0.2             0\n",
              "4   57        150          0               1      0.6             1"
            ],
            "text/html": [
              "\n",
              "  <div id=\"df-de5bf143-e90f-442a-8b6f-6e7f07d7c260\">\n",
              "    <div class=\"colab-df-container\">\n",
              "      <div>\n",
              "<style scoped>\n",
              "    .dataframe tbody tr th:only-of-type {\n",
              "        vertical-align: middle;\n",
              "    }\n",
              "\n",
              "    .dataframe tbody tr th {\n",
              "        vertical-align: top;\n",
              "    }\n",
              "\n",
              "    .dataframe thead th {\n",
              "        text-align: right;\n",
              "    }\n",
              "</style>\n",
              "<table border=\"1\" class=\"dataframe\">\n",
              "  <thead>\n",
              "    <tr style=\"text-align: right;\">\n",
              "      <th></th>\n",
              "      <th>Age</th>\n",
              "      <th>RestingBP</th>\n",
              "      <th>FastingBS</th>\n",
              "      <th>ExerciseAngina</th>\n",
              "      <th>Oldpeak</th>\n",
              "      <th>HeartDisease</th>\n",
              "    </tr>\n",
              "  </thead>\n",
              "  <tbody>\n",
              "    <tr>\n",
              "      <th>0</th>\n",
              "      <td>53</td>\n",
              "      <td>120</td>\n",
              "      <td>0</td>\n",
              "      <td>0</td>\n",
              "      <td>0.0</td>\n",
              "      <td>0</td>\n",
              "    </tr>\n",
              "    <tr>\n",
              "      <th>1</th>\n",
              "      <td>65</td>\n",
              "      <td>134</td>\n",
              "      <td>0</td>\n",
              "      <td>1</td>\n",
              "      <td>1.1</td>\n",
              "      <td>1</td>\n",
              "    </tr>\n",
              "    <tr>\n",
              "      <th>2</th>\n",
              "      <td>60</td>\n",
              "      <td>160</td>\n",
              "      <td>0</td>\n",
              "      <td>1</td>\n",
              "      <td>0.5</td>\n",
              "      <td>1</td>\n",
              "    </tr>\n",
              "    <tr>\n",
              "      <th>3</th>\n",
              "      <td>57</td>\n",
              "      <td>150</td>\n",
              "      <td>1</td>\n",
              "      <td>0</td>\n",
              "      <td>0.2</td>\n",
              "      <td>0</td>\n",
              "    </tr>\n",
              "    <tr>\n",
              "      <th>4</th>\n",
              "      <td>57</td>\n",
              "      <td>150</td>\n",
              "      <td>0</td>\n",
              "      <td>1</td>\n",
              "      <td>0.6</td>\n",
              "      <td>1</td>\n",
              "    </tr>\n",
              "  </tbody>\n",
              "</table>\n",
              "</div>\n",
              "      <button class=\"colab-df-convert\" onclick=\"convertToInteractive('df-de5bf143-e90f-442a-8b6f-6e7f07d7c260')\"\n",
              "              title=\"Convert this dataframe to an interactive table.\"\n",
              "              style=\"display:none;\">\n",
              "        \n",
              "  <svg xmlns=\"http://www.w3.org/2000/svg\" height=\"24px\"viewBox=\"0 0 24 24\"\n",
              "       width=\"24px\">\n",
              "    <path d=\"M0 0h24v24H0V0z\" fill=\"none\"/>\n",
              "    <path d=\"M18.56 5.44l.94 2.06.94-2.06 2.06-.94-2.06-.94-.94-2.06-.94 2.06-2.06.94zm-11 1L8.5 8.5l.94-2.06 2.06-.94-2.06-.94L8.5 2.5l-.94 2.06-2.06.94zm10 10l.94 2.06.94-2.06 2.06-.94-2.06-.94-.94-2.06-.94 2.06-2.06.94z\"/><path d=\"M17.41 7.96l-1.37-1.37c-.4-.4-.92-.59-1.43-.59-.52 0-1.04.2-1.43.59L10.3 9.45l-7.72 7.72c-.78.78-.78 2.05 0 2.83L4 21.41c.39.39.9.59 1.41.59.51 0 1.02-.2 1.41-.59l7.78-7.78 2.81-2.81c.8-.78.8-2.07 0-2.86zM5.41 20L4 18.59l7.72-7.72 1.47 1.35L5.41 20z\"/>\n",
              "  </svg>\n",
              "      </button>\n",
              "      \n",
              "  <style>\n",
              "    .colab-df-container {\n",
              "      display:flex;\n",
              "      flex-wrap:wrap;\n",
              "      gap: 12px;\n",
              "    }\n",
              "\n",
              "    .colab-df-convert {\n",
              "      background-color: #E8F0FE;\n",
              "      border: none;\n",
              "      border-radius: 50%;\n",
              "      cursor: pointer;\n",
              "      display: none;\n",
              "      fill: #1967D2;\n",
              "      height: 32px;\n",
              "      padding: 0 0 0 0;\n",
              "      width: 32px;\n",
              "    }\n",
              "\n",
              "    .colab-df-convert:hover {\n",
              "      background-color: #E2EBFA;\n",
              "      box-shadow: 0px 1px 2px rgba(60, 64, 67, 0.3), 0px 1px 3px 1px rgba(60, 64, 67, 0.15);\n",
              "      fill: #174EA6;\n",
              "    }\n",
              "\n",
              "    [theme=dark] .colab-df-convert {\n",
              "      background-color: #3B4455;\n",
              "      fill: #D2E3FC;\n",
              "    }\n",
              "\n",
              "    [theme=dark] .colab-df-convert:hover {\n",
              "      background-color: #434B5C;\n",
              "      box-shadow: 0px 1px 3px 1px rgba(0, 0, 0, 0.15);\n",
              "      filter: drop-shadow(0px 1px 2px rgba(0, 0, 0, 0.3));\n",
              "      fill: #FFFFFF;\n",
              "    }\n",
              "  </style>\n",
              "\n",
              "      <script>\n",
              "        const buttonEl =\n",
              "          document.querySelector('#df-de5bf143-e90f-442a-8b6f-6e7f07d7c260 button.colab-df-convert');\n",
              "        buttonEl.style.display =\n",
              "          google.colab.kernel.accessAllowed ? 'block' : 'none';\n",
              "\n",
              "        async function convertToInteractive(key) {\n",
              "          const element = document.querySelector('#df-de5bf143-e90f-442a-8b6f-6e7f07d7c260');\n",
              "          const dataTable =\n",
              "            await google.colab.kernel.invokeFunction('convertToInteractive',\n",
              "                                                     [key], {});\n",
              "          if (!dataTable) return;\n",
              "\n",
              "          const docLinkHtml = 'Like what you see? Visit the ' +\n",
              "            '<a target=\"_blank\" href=https://colab.research.google.com/notebooks/data_table.ipynb>data table notebook</a>'\n",
              "            + ' to learn more about interactive tables.';\n",
              "          element.innerHTML = '';\n",
              "          dataTable['output_type'] = 'display_data';\n",
              "          await google.colab.output.renderOutput(dataTable, element);\n",
              "          const docLink = document.createElement('div');\n",
              "          docLink.innerHTML = docLinkHtml;\n",
              "          element.appendChild(docLink);\n",
              "        }\n",
              "      </script>\n",
              "    </div>\n",
              "  </div>\n",
              "  "
            ]
          },
          "metadata": {},
          "execution_count": 39
        }
      ]
    },
    {
      "cell_type": "markdown",
      "source": [
        "## 데이터 나누기"
      ],
      "metadata": {
        "id": "fZDTxR6wKuPO"
      }
    },
    {
      "cell_type": "markdown",
      "source": [
        "### **주의 사항**\n",
        "train_test_split에 random seed를 사용하여 split set을 고정한다.\n",
        "- 모든 문제에 같은 random seed를 부여할 필요는 없다.\n"
      ],
      "metadata": {
        "id": "h5enxbYKbAhW"
      }
    },
    {
      "cell_type": "code",
      "source": [
        "from sklearn.model_selection import train_test_split\n",
        "\n",
        "X = df.drop('HeartDisease', axis=1)\n",
        "y = df['HeartDisease']\n",
        "\n",
        "X_train, X_test, y_train, y_test = train_test_split(X, y, test_size=0.1)\n",
        "X_train, X_val, y_train, y_val = train_test_split(X_train, y_train, test_size=1/9)\n",
        "\n",
        "print(\"X_train's shape : \", X_train.shape)\n",
        "print(\"y_train's shape : \", y_train.shape)\n",
        "print(\"\\nX_val's shape : \", X_val.shape)\n",
        "print(\"y_val's shape : \", y_val.shape)\n",
        "print(\"\\nX_test's shape : \", X_test.shape)\n",
        "print(\"y_test's shape : \", y_test.shape)\n"
      ],
      "metadata": {
        "colab": {
          "base_uri": "https://localhost:8080/"
        },
        "id": "V1zQHUKdKWFz",
        "outputId": "df6c9420-13b3-46f0-88f6-b218a4520f79"
      },
      "execution_count": 40,
      "outputs": [
        {
          "output_type": "stream",
          "name": "stdout",
          "text": [
            "X_train's shape :  (568, 5)\n",
            "y_train's shape :  (568,)\n",
            "\n",
            "X_val's shape :  (71, 5)\n",
            "y_val's shape :  (71,)\n",
            "\n",
            "X_test's shape :  (71, 5)\n",
            "y_test's shape :  (71,)\n"
          ]
        }
      ]
    },
    {
      "cell_type": "markdown",
      "source": [
        "\n",
        "\n",
        "---\n",
        "\n"
      ],
      "metadata": {
        "id": "wkJmRTz_jNTP"
      }
    },
    {
      "cell_type": "markdown",
      "source": [
        "## 문제1 KNN\n",
        "\n",
        "\n",
        "\n",
        "- Scikit-learn 라이브러리를 이용하여 KNN의 최적의 파라미터를 찾는다.\n",
        "    - 최근접 이웃을 찾기 위한 거리의 종류로 최소한 두 가지 이상의 거리 척도를 사용한다.\n",
        "    - K값을 최소 3개 이상 비교한다.\n",
        "    - 거리 척도, k값에 따라 train, validation 정확도를 한 그래프로 그린다.(x축 k값, y축 정확도)\n",
        "    - 찾은 최적의 파라미터와 test set 이용하여 test_accuracy 계산하고 기입한다.\n",
        "    - 최적의 파라미터를 찾은 것에 대한 설명을 '텍스트 셀'에 작성한다.\n",
        "\n"
      ],
      "metadata": {
        "id": "P5Gr-LZOLCSP"
      }
    },
    {
      "cell_type": "code",
      "source": [
        "### 문제 1 ###\n",
        "## 코드 작성 ##\n",
        "from sklearn.neighbors import KNeighborsClassifier\n",
        "from sklearn.metrics import accuracy_score\n",
        "import matplotlib.pyplot as plt\n",
        "\n",
        "np.random.seed(0)\n",
        "X_train, X_test, y_train, y_test = train_test_split(X, y, test_size=0.1)\n",
        "X_train, X_val, y_train, y_val = train_test_split(X_train, y_train, test_size=1/9)\n",
        "\n",
        "K = [1, 3, 5, 10, 15]            \n",
        "\n",
        "euclid_train_acc = []\n",
        "manhat_train_acc = []\n",
        "euclid_val_acc = []\n",
        "manhat_val_acc = []\n",
        "\n",
        "# 총 5개의 K 값 중 최적의 k 값을 찾을 것이다.\n",
        "for k in K :\n",
        "  #거리 척도는 euclidean distance, manhattan distance 2가지를 사용하여 비교하였다.\n",
        "  knn_euclid = KNeighborsClassifier(k,metric=\"euclidean\")\n",
        "  knn_manhat = KNeighborsClassifier(k,metric=\"manhattan\")\n",
        "\n",
        "  knn_euclid.fit(X_train, y_train)\n",
        "  knn_manhat.fit(X_train, y_train)\n",
        "\n",
        "  #training set을 기반으로 score 측정\n",
        "  score_train_euclid = knn_euclid.score(X_train, y_train)\n",
        "  score_train_manhat = knn_manhat.score(X_train, y_train)\n",
        "  #validation set을 기반으로 score 측정\n",
        "  score_val_euclid = knn_euclid.score(X_val,y_val)\n",
        "  score_val_manhat = knn_manhat.score(X_val,y_val)\n",
        "\n",
        "  #scores1 = cross_val_score(knn_euclid,X_train,y_train,cv=9,scoring = \"accuracy\")    \n",
        "  #scores2 = cross_val_score(knn_manhala,X_train,y_train,cv=9,scoring = \"accuracy\") \n",
        "  #print('<train> k: %d, accuracy: %.2f' % (k, score_train))\n",
        "  #print('<validation> k: %d, accuracy: %.2f' % (k, score_val))\n",
        "\n",
        "  #최종 평균값을 비교\n",
        "  euclid_train_acc.append(score_train_euclid.mean())\n",
        "  manhat_train_acc.append(score_train_manhat.mean())\n",
        "  euclid_val_acc.append(score_val_euclid.mean())\n",
        "  manhat_val_acc.append(score_val_manhat.mean())\n",
        "\n",
        "print(\"\\t\\tk=1\\t\\t\\tk=3\\t\\t\\tk=5\\t\\tk=10\\t\\t\\tk=15\")\n",
        "print(\"euclid train\",euclid_train_acc)\n",
        "print(\"euclid validation\",euclid_val_acc)\n",
        "print(\"manhat train\",manhat_train_acc)\n",
        "print(\"manhat validation\",manhat_val_acc)\n",
        "\n",
        "# x축을 K값, y축을 정확도로하여 K에 대한 train, validation의 정확도에 대한 그래프 생성\n",
        "plt.plot(K, euclid_train_acc, label='euclid train accuracy')\n",
        "plt.plot(K, euclid_val_acc, label='euclid validation accuracy')\n",
        "plt.plot(K, manhat_train_acc, label='manhattan train accuracy')\n",
        "plt.plot(K, manhat_val_acc, label='manhattan validation accuracy')\n",
        "plt.xlabel('K')\n",
        "plt.ylabel('accuracy')\n",
        "plt.legend()\n",
        "plt.show()\n",
        "\n",
        "#기존의 training set, validation set을 합쳐 9개의 fold를 모두 training set으로\n",
        "#활용하여 test set을 평가하였다.\n",
        "X_all = [X_train,X_val]\n",
        "y_all = [y_train,y_val]\n",
        "X_new_train = pd.concat(X_all, ignore_index=True)\n",
        "y_new_train = pd.concat(y_all, ignore_index=True)\n",
        "\n",
        "#최적의 파라미터로 k=10, 거리 척도는 manhattan distance를 사용하여 test set의 정확도를 측정하였다.\n",
        "knn = KNeighborsClassifier(10,metric=\"manhattan\")\n",
        "knn.fit(X_new_train,y_new_train)\n",
        "score = knn.score(X_new_train,y_new_train)\n",
        "print('test accurancy : %.2f' % score.mean())\n"
      ],
      "metadata": {
        "colab": {
          "base_uri": "https://localhost:8080/",
          "height": 392
        },
        "id": "jVgtlmQ03Ekk",
        "outputId": "83948f1b-8353-4b11-af1a-0e3e7fc1728b"
      },
      "execution_count": 41,
      "outputs": [
        {
          "output_type": "stream",
          "name": "stdout",
          "text": [
            "\t\tk=1\t\t\tk=3\t\t\tk=5\t\tk=10\t\t\tk=15\n",
            "euclid train [0.9823943661971831, 0.8080985915492958, 0.7658450704225352, 0.7147887323943662, 0.7077464788732394]\n",
            "euclid validation [0.6056338028169014, 0.6619718309859155, 0.704225352112676, 0.6338028169014085, 0.6619718309859155]\n",
            "manhat train [0.9823943661971831, 0.823943661971831, 0.7922535211267606, 0.7429577464788732, 0.7376760563380281]\n",
            "manhat validation [0.6056338028169014, 0.676056338028169, 0.6338028169014085, 0.7323943661971831, 0.7183098591549296]\n"
          ]
        },
        {
          "output_type": "display_data",
          "data": {
            "text/plain": [
              "<Figure size 432x288 with 1 Axes>"
            ],
            "image/png": "[encoded data removed]"
          },
          "metadata": {
            "needs_background": "light"
          }
        },
        {
          "output_type": "stream",
          "name": "stdout",
          "text": [
            "test accurancy : 0.74\n"
          ]
        }
      ]
    },
    {
      "cell_type": "markdown",
      "source": [
        "**설명 작성**  \n",
        "- 최적의 파라미터: manhattan distance, k=10\n",
        "- 설명:\\\n",
        "먼저 euclidean distance를 살펴보면 k=5일 때 validation 정확도가 0.70으로 가장 높았으며 이 때 train 정확도는 0.76을 기록했다. mahattan distance로 거리를 측정했을 때 k=10일 때 validation 정확도가 0.73으로 가장 높았으며 train정확도는 0.74를 기록했다. validaiton set을 따로 분리하여 train set을 평가하는 이유가 training set에서는 높은 정확도를 보이더라도 overfitting이 발생할 수 있기 때문인데 이를 기반으로 test set을 평가한다고 했을 때 training set과 validation set의 정확도를 모두 높은 것이 좋겠지만 보통 validation score를 고려하여 파라미터를 고른다. 따라서 manhattan distance 기반의 k=10일 때의 validation accurancy가 euclidean distance 기반 일 때 validation auccrancy가 더 높고 training accurancy와의 차이도 적기 때문에 새로운 test set을 평가했을 때에도 온전한 성능을 기반으로 보다 높은 정확도를 보일 것이라고 판단하였다."
      ],
      "metadata": {
        "id": "8-BMEqCFdfsR"
      }
    },
    {
      "cell_type": "markdown",
      "source": [
        "\n",
        "\n",
        "---\n",
        "\n"
      ],
      "metadata": {
        "id": "kHaSKoowjPp7"
      }
    },
    {
      "cell_type": "markdown",
      "source": [
        "## 문제2 SVM\n",
        "\n",
        "\n",
        "- Scikit-learn 라이브러리를 이용하여 SVM의 최적의 파라미터를 찾는다.\n",
        "    - Kernel trick 중 최소 두개를 비교한다.\n",
        "    - 최적의 파라미터 C값을 찾는다.\n",
        "    - 파라미터에 따라 train, validation 정확도를 한 그래프로 그린다.(x축 C값, y축 정확도)\n",
        "    - 찾은 최적의 파라미터와 test set을 이용하여 test accuracy를 계산하고 기입한다.\n",
        "    - 최적의 파라미터를 찾은 것에 대한 설명을 '텍스트 셀'에 작성한다.\n"
      ],
      "metadata": {
        "id": "VA0mzbsiaOoH"
      }
    },
    {
      "cell_type": "code",
      "source": [
        "### 문제 2 ###\n",
        "## 코드 작성 ##\n",
        "from sklearn.svm import SVC\n",
        "\n",
        "C = [0.01, 0.1, 1, 10, 100, 1000]\n",
        "poly_train_acc = []\n",
        "rbf_train_acc = []\n",
        "poly_val_acc = []\n",
        "rbf_val_acc = []\n",
        "\n",
        "for c in C:\n",
        "  #Kerner trick으로 Polynomial kernel과 RBF를 비교하였다.\n",
        "  svm_poly = SVC(kernel='poly',C=c)\n",
        "  svm_rbf = SVC(kernel='rbf',C=c)\n",
        "  \n",
        "  svm_poly.fit(X_train,y_train)\n",
        "  svm_rbf.fit(X_train,y_train)\n",
        "\n",
        "  #training set을 기반으로 score 측정\n",
        "  score_train_poly = svm_poly.score(X_train, y_train)\n",
        "  score_train_rbf = svm_rbf.score(X_train, y_train)\n",
        "  #validation set을 기반으로 score 측정\n",
        "  score_val_poly = svm_poly.score(X_val,y_val)\n",
        "  score_val_rbf = svm_rbf.score(X_val,y_val)\n",
        "\n",
        "  #최종 평균값을 비교\n",
        "  poly_train_acc.append(score_train_poly.mean())\n",
        "  rbf_train_acc.append(score_train_rbf.mean())\n",
        "  poly_val_acc.append(score_val_poly.mean())\n",
        "  rbf_val_acc.append(score_val_rbf.mean())\n",
        "\n",
        "print(\"\\t\\t\\tC=0.01\\t\\tC=0.1\\t\\t\\tC=1\\t\\tC=10\\t\\t\\tC=100\\t\\tC=1000\")\n",
        "print(\"Polynomial train\",poly_train_acc)\n",
        "print(\"Polynomial validation\",poly_val_acc)\n",
        "print(\"RBF train\",rbf_train_acc)\n",
        "print(\"RBF validation\",rbf_val_acc)\n",
        "\n",
        "# x축을 C값, y축을 정확도로하여 C에 대한 train, validation의 정확도에 대한 그래프 생성\n",
        "plt.plot(C, poly_train_acc, label='Polynomial train accuracy')\n",
        "plt.plot(C, poly_val_acc, label='Polynomial validation accuracy')\n",
        "plt.plot(C, rbf_train_acc, label='RBF train accuracy')\n",
        "plt.plot(C, rbf_val_acc, label='RBF validation accuracy')\n",
        "plt.xlabel('C')\n",
        "plt.ylabel('accuracy')\n",
        "plt.legend()\n",
        "plt.show()\n",
        "\n",
        "#기존의 training set, validation set을 합쳐 9개의 fold를 모두 training set으로\n",
        "#활용하여 test set을 평가하였다. (X_new_train, y_new_train)\n",
        "#최적의 파라미터로 C=1000, Kernel trick은 RBF를 사용하여 test set의 정확도를 측정하였다.\n",
        "svm = SVC(kernel='rbf',C=1000)\n",
        "svm.fit(X_new_train,y_new_train)\n",
        "score = svm.score(X_new_train,y_new_train)\n",
        "print('test accurancy : %.2f' % score.mean())\n",
        "\n"
      ],
      "metadata": {
        "id": "zZdkdlyMeH_Y",
        "colab": {
          "base_uri": "https://localhost:8080/",
          "height": 388
        },
        "outputId": "343b1fee-2a48-408a-9d90-75978c49f1de"
      },
      "execution_count": 42,
      "outputs": [
        {
          "output_type": "stream",
          "name": "stdout",
          "text": [
            "\t\t\tC=0.01\t\tC=0.1\t\t\tC=1\t\tC=10\t\t\tC=100\t\tC=1000\n",
            "Polynomial train [0.5598591549295775, 0.5598591549295775, 0.6549295774647887, 0.7165492957746479, 0.7887323943661971, 0.7940140845070423]\n",
            "Polynomial validation [0.49295774647887325, 0.49295774647887325, 0.704225352112676, 0.7887323943661971, 0.8169014084507042, 0.8169014084507042]\n",
            "RBF train [0.5598591549295775, 0.5598591549295775, 0.6373239436619719, 0.6602112676056338, 0.7764084507042254, 0.795774647887324]\n",
            "RBF validation [0.49295774647887325, 0.49295774647887325, 0.6338028169014085, 0.6901408450704225, 0.8028169014084507, 0.8169014084507042]\n"
          ]
        },
        {
          "output_type": "display_data",
          "data": {
            "text/plain": [
              "<Figure size 432x288 with 1 Axes>"
            ],
            "image/png": "[encoded data removed]"
          },
          "metadata": {
            "needs_background": "light"
          }
        },
        {
          "output_type": "stream",
          "name": "stdout",
          "text": [
            "test accurancy : 0.80\n"
          ]
        }
      ]
    },
    {
      "cell_type": "markdown",
      "source": [
        "**설명 작성**  \n",
        "- 최적의 파라미터: C=1000, Kernel trick: RBF\n",
        "- 설명:\\\n",
        "Kernel Function으로 Polynomial kernel을 사용하였을 때는 C=100에서 0.82로 validation accurancy가 가장 높게 나왔고 C=1000에서도 동일한 값을 보였다. RBF를 사용하였을 때는 C=1000에서 가장 높은 validation accurancy를 보였고 Polynomial kernel을 사용하였을 때와 동일한 정확도로 측정되었다. 이는 그래프에서도 확인할 수 있는데 모두 C=1000 기점으로 확인하였을 때 정확도가 약 0.82에 수렴하는 경향을 보인다. 이를 바탕으로 hyper parameter C는 1000으로 설정하였으며 Kernel trick은 둘 다 사용 가능하나 기왕이면 training accurancy도 높았으면 좋겠어서 정말 사소하게나마 조금 더 높은 정확도를 보인 RBF로 설정하였다."
      ],
      "metadata": {
        "id": "y47YT_IleHKq"
      }
    },
    {
      "cell_type": "markdown",
      "source": [
        ""
      ],
      "metadata": {
        "id": "EFexBNQsWFGN"
      }
    },
    {
      "cell_type": "markdown",
      "source": [
        "\n",
        "\n",
        "---\n",
        "\n"
      ],
      "metadata": {
        "id": "jFA8FPDKkjHC"
      }
    },
    {
      "cell_type": "markdown",
      "source": [
        "## 문제3 Cross validation with Random Forest\n",
        "### 3-1: k-fold\n",
        "- 수업시간에 배운 **5-fold** 를 이용하여 최적의 파라미터를 찾는다. (데이터는 동일)\n",
        "- 수업시간에 배운 random forest 모델의 파라미터를 cross-validation을 바탕으로 최적화한다.\n",
        "    - **5-fold CV를 할 때, test data를 제외한 90%의 데이터를 사용해야한다.**\n",
        "    - 파라미터에 따라 K-fold CV를 통해 나온 평균 정확도와 각 fold의 정확도들을 한 그래프로 그린다.(x축 선택한 파라미터, y축 정확도)\n",
        "    - 찾은 최적의 파라미터와 test set을 이용하여 test accuracy를 계산하고 기입한다.\n",
        "    - 최적의 파라미터를 찾은 것에 대한 설명을 '텍스트 셀'에 작성한다.\n",
        "\n",
        "### 3-2: Leave One Out\n",
        "- 수업시간에 배운 Leave-One-Out 를 이용하여 최적의 파라미터를 찾는다. (데이터는 동일)\n",
        "- 수업시간에 배운 random forest 모델의 파라미터를 cross-validation을 바탕으로 최적화한다.\n",
        "  - **Leave-One-Out CV를 할 때, test data를 제외한 90%의 데이터를 사용해야한다.**\n",
        "  - 파라미터에 따라 Leave-One-Out CV를 통해 나온 평균 정확도를 그래프로 그린다.(x축 선택한 파라미터, y축 정확도)\n",
        "  - 찾은 최적의 파라미터와 test set을 이용하여 test accuracy를 계산하고 기입한다.\n",
        "  - 최적의 파라미터를 찾은 것에 대한 설명을 '텍스트 셀'에 작성한다."
      ],
      "metadata": {
        "id": "cl1b3f3AaZUw"
      }
    },
    {
      "cell_type": "code",
      "source": [
        "### 문제 3-1 ###\n",
        "## 코드 작성 ##\n",
        "from sklearn.ensemble import RandomForestClassifier\n",
        "from sklearn.model_selection import cross_val_score\n",
        "\n",
        "np.random.seed(10)\n",
        "X_train, X_test, y_train, y_test = train_test_split(X, y, test_size=0.1)\n",
        "\n",
        "#수업 시간에 배운 파라미터는 feature의 개수가 핵심이었지만 그래프의 x축으로\n",
        "#설정하기 위해 sample 개수를 파라미터로 설정하였다.\n",
        "#clf_all = RandomForestClassifier(max_features=None)\n",
        "#clf_sqrt = RandomForestClassifier(max_features=\"sqrt\")\n",
        "#clf_log2 = RandomForestClassifier(max_features=\"log2\")\n",
        "sampling = [1,10,50,100,300]\n",
        "scores=[]\n",
        "fold1=[]\n",
        "fold2=[]\n",
        "fold3=[]\n",
        "fold4=[]\n",
        "fold5=[]\n",
        "\n",
        "#score_all = cross_val_score(clf_all, X_train, y_train, scoring = 'accuracy', cv=5)\n",
        "#score_sqrt = cross_val_score(clf_sqrt, X_train, y_train, scoring = 'accuracy', cv=5)\n",
        "#score_log2 = cross_val_score(clf_log2, X_train, y_train, scoring = 'accuracy', cv=5)\n",
        "\n",
        "#최적의 Random Forest Sample 개수(s)를 찾는다.\n",
        "for s in sampling:\n",
        "  clf = RandomForestClassifier(n_estimators=s)\n",
        "  # 5개의 fold로 cross-validation을 수행한다.\n",
        "  score = cross_val_score(clf, X_train, y_train, scoring = 'accuracy', cv=5)\n",
        "  \n",
        "  #s마다 같은 fold의 accurancy끼리 묶는다.\n",
        "  fold1.append(score[0])\n",
        "  fold2.append(score[1])\n",
        "  fold3.append(score[2])\n",
        "  fold4.append(score[3])\n",
        "  fold5.append(score[4])\n",
        "  \n",
        "  scores.append(score.mean())\n",
        "\n",
        "# x축을 sampling 개수, y축을 정확도로하여 sampling 개수에 대한 정확도 그래프 생성\n",
        "plt.plot(sampling, scores, label='Average Accuracy')\n",
        "plt.plot(sampling, fold1, label='fold1 Accuracy')\n",
        "plt.plot(sampling, fold2, label='fold2 Accuracy')\n",
        "plt.plot(sampling, fold3, label='fold3 Accuracy')\n",
        "plt.plot(sampling, fold4, label='fold4 Accuracy')\n",
        "plt.plot(sampling, fold5, label='fold5 Accuracy')\n",
        "plt.xlabel('number of samples')\n",
        "plt.ylabel('accuracy')\n",
        "plt.legend()\n",
        "plt.show()\n",
        "print(\"average accurancy : \",scores)\n",
        "\n",
        "#average accurancy가 가장 높은 s=100으로 잡고 test \n",
        "ranForest = RandomForestClassifier(n_estimators=100)\n",
        "ranForest.fit(X_train,y_train)\n",
        "score = ranForest.score(X_test,y_test)\n",
        "print('test accurancy : %.2f' % score.mean())"
      ],
      "metadata": {
        "id": "fYNny36efEF3",
        "colab": {
          "base_uri": "https://localhost:8080/",
          "height": 315
        },
        "outputId": "f1b7e9f7-2c85-483e-f9eb-5df09cb0b7a6"
      },
      "execution_count": 46,
      "outputs": [
        {
          "output_type": "display_data",
          "data": {
            "text/plain": [
              "<Figure size 432x288 with 1 Axes>"
            ],
            "image/png": "[encoded data removed]"
          },
          "metadata": {
            "needs_background": "light"
          }
        },
        {
          "output_type": "stream",
          "name": "stdout",
          "text": [
            "average accurancy :  [0.6933686023622048, 0.7309178149606299, 0.7387672244094488, 0.7434670275590551, 0.7324803149606299]\n",
            "test accurancy : 0.76\n"
          ]
        }
      ]
    },
    {
      "cell_type": "markdown",
      "source": [
        "**설명 작성**  \n",
        "- test accuracy:0.76\n",
        "- 최적의 파라미터:샘플개수(n_estimators)=100\n",
        "- 설명:\\\n",
        "random forest sample개수를 1개, 10개, 50개,100개, 300개 까지 제한하며 cross-validation을 수행한 결과 100개를 가지고 sampling했을 때 정확도가 가장 높았다. 따라서 최적의 파리미터로 샘플개수를 100개로 설정하였다.\n",
        "\n"
      ],
      "metadata": {
        "id": "2xvEdCHAfH0g"
      }
    },
    {
      "cell_type": "code",
      "source": [
        "### 문제 3-2 ###\n",
        "## 코드 작성 ##\n",
        "from sklearn.model_selection import LeaveOneOut\n",
        "\n",
        "#sample 개수를 파라미터로 설정하였다.\n",
        "sampling = [1,10,50,100,300]\n",
        "scores=[]\n",
        "#최적의 Random Forest Sample 개수(s)를 찾는다.\n",
        "for s in sampling:\n",
        "  clf = RandomForestClassifier(n_estimators=s)\n",
        "  #fold 하나에 sample 하나\n",
        "  loocv = LeaveOneOut()\n",
        "  score = cross_val_score(clf,X_train,y_train,cv = loocv)\n",
        "  scores.append(score.mean())\n",
        "\n",
        "# x축을 sampling 개수, y축을 정확도로하여 sampling 개수에 대한 정확도 그래프 생성\n",
        "plt.plot(sampling, scores, label='Average Accuracy')\n",
        "plt.xlabel('number of samples')\n",
        "plt.ylabel('accuracy')\n",
        "plt.show()\n",
        "print(\"average accurancy : \",scores)\n",
        "\n",
        "#average accurancy가 가장 높은 s=100으로 잡고 test \n",
        "ranForest = RandomForestClassifier(n_estimators=100)\n",
        "ranForest.fit(X_train,y_train)\n",
        "score = ranForest.score(X_test,y_test)\n",
        "print('test accurancy : %.2f' % score.mean())"
      ],
      "metadata": {
        "id": "80a5iRmvfG6H",
        "colab": {
          "base_uri": "https://localhost:8080/",
          "height": 315
        },
        "outputId": "f64dcd6f-476e-4dbd-8e67-c6bec3259d7f"
      },
      "execution_count": 48,
      "outputs": [
        {
          "output_type": "display_data",
          "data": {
            "text/plain": [
              "<Figure size 432x288 with 1 Axes>"
            ],
            "image/png": "[encoded data removed]"
          },
          "metadata": {
            "needs_background": "light"
          }
        },
        {
          "output_type": "stream",
          "name": "stdout",
          "text": [
            "average accurancy :  [0.6838810641627543, 0.7323943661971831, 0.7449139280125195, 0.7449139280125195, 0.7433489827856025]\n",
            "test accurancy : 0.76\n"
          ]
        }
      ]
    },
    {
      "cell_type": "markdown",
      "source": [
        "**설명 작성**  \n",
        "- test accuracy:0.76\n",
        "- 최적의 파라미터: 샘플개수(n_estimators)=100\n",
        "- 설명:\\\n",
        "random forest sample개수를 1개, 10개, 50개,100개, 300개 까지 제한하며 cross-validation을 수행한 결과 100개를 가지고 sampling했을 때 정확도가 가장 높았다. 따라서 최적의 파리미터로 샘플개수를 100개로 설정하였다.\n"
      ],
      "metadata": {
        "id": "m9BqByTFfLIG"
      }
    },
    {
      "cell_type": "markdown",
      "source": [
        "\n",
        "\n",
        "---\n",
        "\n"
      ],
      "metadata": {
        "id": "BlvQjbXJkllk"
      }
    },
    {
      "cell_type": "markdown",
      "source": [
        "## 문제4 Regression\n",
        "문제 4 에서는 캘리포니아 주택 가격 데이터셋을 사용합니다.   \n",
        "학습을 통해 주택 가격을 예측하는 문제입니다.  \n",
        "데이터에 대한 자세한 설명은 아래 코드의 description을 참고해주세요."
      ],
      "metadata": {
        "id": "szX5GgcXfnM1"
      }
    },
    {
      "cell_type": "code",
      "source": [
        "from sklearn.datasets import fetch_california_housing\n",
        "housing = fetch_california_housing()\n",
        "print(housing.DESCR)"
      ],
      "metadata": {
        "colab": {
          "base_uri": "https://localhost:8080/"
        },
        "id": "v7mbmrTRinak",
        "outputId": "c8ec8bf8-bf25-4406-84be-f25002521057"
      },
      "execution_count": 49,
      "outputs": [
        {
          "output_type": "stream",
          "name": "stdout",
          "text": [
            ".. _california_housing_dataset:\n",
            "\n",
            "California Housing dataset\n",
            "--------------------------\n",
            "\n",
            "**Data Set Characteristics:**\n",
            "\n",
            "    :Number of Instances: 20640\n",
            "\n",
            "    :Number of Attributes: 8 numeric, predictive attributes and the target\n",
            "\n",
            "    :Attribute Information:\n",
            "        - MedInc        median income in block group\n",
            "        - HouseAge      median house age in block group\n",
            "        - AveRooms      average number of rooms per household\n",
            "        - AveBedrms     average number of bedrooms per household\n",
            "        - Population    block group population\n",
            "        - AveOccup      average number of household members\n",
            "        - Latitude      block group latitude\n",
            "        - Longitude     block group longitude\n",
            "\n",
            "    :Missing Attribute Values: None\n",
            "\n",
            "This dataset was obtained from the StatLib repository.\n",
            "https://www.dcc.fc.up.pt/~ltorgo/Regression/cal_housing.html\n",
            "\n",
            "The target variable is the median house value for California districts,\n",
            "expressed in hundreds of thousands of dollars ($100,000).\n",
            "\n",
            "This dataset was derived from the 1990 U.S. census, using one row per census\n",
            "block group. A block group is the smallest geographical unit for which the U.S.\n",
            "Census Bureau publishes sample data (a block group typically has a population\n",
            "of 600 to 3,000 people).\n",
            "\n",
            "An household is a group of people residing within a home. Since the average\n",
            "number of rooms and bedrooms in this dataset are provided per household, these\n",
            "columns may take surpinsingly large values for block groups with few households\n",
            "and many empty houses, such as vacation resorts.\n",
            "\n",
            "It can be downloaded/loaded using the\n",
            ":func:`sklearn.datasets.fetch_california_housing` function.\n",
            "\n",
            ".. topic:: References\n",
            "\n",
            "    - Pace, R. Kelley and Ronald Barry, Sparse Spatial Autoregressions,\n",
            "      Statistics and Probability Letters, 33 (1997) 291-297\n",
            "\n"
          ]
        }
      ]
    },
    {
      "cell_type": "code",
      "source": [
        "df = pd.DataFrame(housing.data, columns=housing.feature_names)\n",
        "df['target'] = housing.target"
      ],
      "metadata": {
        "id": "beqDbNzQi0PR"
      },
      "execution_count": 50,
      "outputs": []
    },
    {
      "cell_type": "code",
      "source": [
        "print(df.head())"
      ],
      "metadata": {
        "colab": {
          "base_uri": "https://localhost:8080/"
        },
        "id": "Y-4fgqWCkd-o",
        "outputId": "f3cf902b-0743-4ddf-dd24-46d4acc4fbb4"
      },
      "execution_count": 51,
      "outputs": [
        {
          "output_type": "stream",
          "name": "stdout",
          "text": [
            "   MedInc  HouseAge  AveRooms  AveBedrms  Population  AveOccup  Latitude  \\\n",
            "0  8.3252      41.0  6.984127   1.023810       322.0  2.555556     37.88   \n",
            "1  8.3014      21.0  6.238137   0.971880      2401.0  2.109842     37.86   \n",
            "2  7.2574      52.0  8.288136   1.073446       496.0  2.802260     37.85   \n",
            "3  5.6431      52.0  5.817352   1.073059       558.0  2.547945     37.85   \n",
            "4  3.8462      52.0  6.281853   1.081081       565.0  2.181467     37.85   \n",
            "\n",
            "   Longitude  target  \n",
            "0    -122.23   4.526  \n",
            "1    -122.22   3.585  \n",
            "2    -122.24   3.521  \n",
            "3    -122.25   3.413  \n",
            "4    -122.25   3.422  \n"
          ]
        }
      ]
    },
    {
      "cell_type": "code",
      "source": [
        "print(df.shape) #(20640, 9)\n",
        "print(df.describe())"
      ],
      "metadata": {
        "colab": {
          "base_uri": "https://localhost:8080/"
        },
        "id": "zoUn3ZXdkimJ",
        "outputId": "bd7729fb-67ea-4246-ffff-ad314c61b884"
      },
      "execution_count": 52,
      "outputs": [
        {
          "output_type": "stream",
          "name": "stdout",
          "text": [
            "(20640, 9)\n",
            "             MedInc      HouseAge      AveRooms     AveBedrms    Population  \\\n",
            "count  20640.000000  20640.000000  20640.000000  20640.000000  20640.000000   \n",
            "mean       3.870671     28.639486      5.429000      1.096675   1425.476744   \n",
            "std        1.899822     12.585558      2.474173      0.473911   1132.462122   \n",
            "min        0.499900      1.000000      0.846154      0.333333      3.000000   \n",
            "25%        2.563400     18.000000      4.440716      1.006079    787.000000   \n",
            "50%        3.534800     29.000000      5.229129      1.048780   1166.000000   \n",
            "75%        4.743250     37.000000      6.052381      1.099526   1725.000000   \n",
            "max       15.000100     52.000000    141.909091     34.066667  35682.000000   \n",
            "\n",
            "           AveOccup      Latitude     Longitude        target  \n",
            "count  20640.000000  20640.000000  20640.000000  20640.000000  \n",
            "mean       3.070655     35.631861   -119.569704      2.068558  \n",
            "std       10.386050      2.135952      2.003532      1.153956  \n",
            "min        0.692308     32.540000   -124.350000      0.149990  \n",
            "25%        2.429741     33.930000   -121.800000      1.196000  \n",
            "50%        2.818116     34.260000   -118.490000      1.797000  \n",
            "75%        3.282261     37.710000   -118.010000      2.647250  \n",
            "max     1243.333333     41.950000   -114.310000      5.000010  \n"
          ]
        }
      ]
    },
    {
      "cell_type": "markdown",
      "source": [
        "### 문제 4-1 : Pearson Correlation\n",
        "- seaborn 패키지를 사용하여 pearson correlation heatmap을 그린다.\n",
        "- heatmap을 확인한 후 각 feature들 간 어떠한 관계가 있는지 아래의 텍스트 셀에 서술한다.    \n",
        "- target과 연관성이 높은 feature의 column들을 아래의 텍스트 셀에 기술한다.\n",
        "- 기술한 columns들과 target column을 포함하여 DataFrame을 만들고 **이후 모든 문제에서는 이 DataFrame을 사용한다**."
      ],
      "metadata": {
        "id": "G3_Z_2mO7WkB"
      }
    },
    {
      "cell_type": "code",
      "source": [
        "### 문제 4-1 ###\n",
        "# correlation map 작성 후 plot\n",
        "import matplotlib.pyplot as mp\n",
        "import seaborn as sb\n",
        "\n",
        "dataplot = sb.heatmap(df.corr(), cmap=\"Greens\", annot=True)\n",
        "\n",
        "mp.show\n"
      ],
      "metadata": {
        "id": "3YiBgTBYFlOs",
        "colab": {
          "base_uri": "https://localhost:8080/",
          "height": 334
        },
        "outputId": "44c5ad48-cc59-4949-e7c5-528385c95de3"
      },
      "execution_count": 53,
      "outputs": [
        {
          "output_type": "execute_result",
          "data": {
            "text/plain": [
              "<function matplotlib.pyplot.show>"
            ]
          },
          "metadata": {},
          "execution_count": 53
        },
        {
          "output_type": "display_data",
          "data": {
            "text/plain": [
              "<Figure size 432x288 with 2 Axes>"
            ],
            "image/png": "[encoded data removed]"
          },
          "metadata": {
            "needs_background": "light"
          }
        }
      ]
    },
    {
      "cell_type": "markdown",
      "source": [
        "- **Feature들 간 관계 서술**  \n",
        "  답: target과 MedInc 사이에는 비교적 강한 양의 상관 관계가 있다. AveRooms과 Medlnc는 3번 째로 강한 양의 상관 관계를 가진다. AveRooms와 AveBedrms는 feature들 간 관계 중 가장 강한 양의 상관 관계를 보인다. 반대로 Latitude와 Longitude는 가장 강한 음의 상관 관계를 보인다. 그 외 feature들의 관계는 모두 비교적 약한 상관 관계를 가지며 사실상 선형관계가 거의 없는 것으로 보여진다.\n",
        "\n",
        "- **최종 선택한 feature들**  \n",
        "  답: Medlnc"
      ],
      "metadata": {
        "id": "onkXpOqZ_Aal"
      }
    },
    {
      "cell_type": "code",
      "source": [
        "### 문제 4-1 ###\n",
        "# 새 dataframe 만들기 \n",
        "\n",
        "new_df = df[['MedInc', 'target']]\n",
        "print(new_df.head())\n",
        "print(new_df.shape)\n"
      ],
      "metadata": {
        "id": "GDXuxL65j7Gy",
        "colab": {
          "base_uri": "https://localhost:8080/"
        },
        "outputId": "860b3c38-10f2-47ef-97f2-fe581c7c8e65"
      },
      "execution_count": 54,
      "outputs": [
        {
          "output_type": "stream",
          "name": "stdout",
          "text": [
            "   MedInc  target\n",
            "0  8.3252   4.526\n",
            "1  8.3014   3.585\n",
            "2  7.2574   3.521\n",
            "3  5.6431   3.413\n",
            "4  3.8462   3.422\n",
            "(20640, 2)\n"
          ]
        }
      ]
    },
    {
      "cell_type": "markdown",
      "source": [
        "### 문제 4-2: MSE, r2 score\n",
        "- Scikit-learn 라이브러리의 LinearRegression 모델을 사용한다.\n",
        "- train data는 test data를 제외한 **90%의 데이터를 사용**해야한다.\n",
        "- **Mean Square Error(MSE)**와 **r2 score**를 사용하여 train set에 대한 prediction 결과와 test set에 대한 prediction 결과를 구해 print 한다.\n",
        "- Prediction 결과를 바탕으로 학습한 LinearRegression 모델의 overfit, underfit 여부와 판단 근거를 텍스트 셀에 서술한다."
      ],
      "metadata": {
        "id": "uMo7ufW3_TXX"
      }
    },
    {
      "cell_type": "code",
      "source": [
        "### 문제 4-2 ###\n",
        "## 코드 작성 ##\n",
        "from sklearn.linear_model import LinearRegression\n",
        "from sklearn.model_selection import train_test_split\n",
        "from sklearn import metrics\n",
        "\n",
        "x = new_df.drop('target', axis=1)\n",
        "y = new_df['target']\n",
        "\n",
        "np.random.seed(30)\n",
        "x_train, x_test, y_train, y_test = train_test_split(x, y, test_size=0.1)\n",
        "\n",
        "estimator = LinearRegression()\n",
        "estimator.fit(x_train, y_train)\n",
        "\n",
        "print(\"<Train>\")\n",
        "y_pred = estimator.predict(x_train) \n",
        "MSE = metrics.mean_squared_error(y_train, y_pred)\n",
        "r2 = metrics.r2_score(y_train, y_pred)\n",
        "print(\"MSE : %.3F\\tR2 : %.3f\"%(MSE,r2))\n",
        "\n",
        "print(\"<Test>\")\n",
        "y_pred = estimator.predict(x_test) \n",
        "MSE = metrics.mean_squared_error(y_test, y_pred)\n",
        "r2 = metrics.r2_score(y_test, y_pred)\n",
        "print(\"MSE : %.3F\\tR2 : %.3f\"%(MSE,r2))\n",
        "\n"
      ],
      "metadata": {
        "id": "UgKvcwQXCLhx",
        "colab": {
          "base_uri": "https://localhost:8080/"
        },
        "outputId": "d9529326-814f-4b00-eaac-f4ca7caa137b"
      },
      "execution_count": 64,
      "outputs": [
        {
          "output_type": "stream",
          "name": "stdout",
          "text": [
            "<Train>\n",
            "MSE : 0.693\tR2 : 0.477\n",
            "<Test>\n",
            "MSE : 0.775\tR2 : 0.444\n"
          ]
        }
      ]
    },
    {
      "cell_type": "markdown",
      "source": [
        "**Prediction 결과를 바탕으로 학습한 LinearRegression 모델의 overfit, underfit 여부와 판단 근거를 서술**   \n",
        "답: 동일한 데이터지만 MSE를 사용했을 때와 R2를 사용하였을 때 모델의 score차이가 있다. 특히 training 단계에서 서로 큰 차이를 보이고 있다. Mean Square Error의 경우 train set에 대한 prediction 결과의 score가 test set보다 낮은 것을 확인할 수 있다. 이는 MSE를 사용한 모델의 설계 중 traiing 단계에서 지나친 단순화로 인해 발생한 에러로 낮은 score 값을 보인 underfitting이라고 판단된다.\n",
        "반대로 R2를 사용하였을 때에는 굳이 정확도의 차이에 의의를 두자면 training data에서 너무 정확하게 model을 설계하려고 하여 발생한 overfitting으로 유추할 수 있다."
      ],
      "metadata": {
        "id": "rcgD51UhEKOE"
      }
    },
    {
      "cell_type": "markdown",
      "source": [
        "### 문제 4-3: Regularized Model\n",
        "- Scikit-learn 라이브러리를 사용하여 Ridge Regression과 Lasso Regression 모델을 만든다.\n",
        "- train : validation : test **데이터셋의 비율을 8:1:1**로 설정한다.\n",
        "- 다양한 alpha 값에 대해 validation dataset을 사용하여 각 모델에 대한 **최적의 alpha 값을 찾고 찾은 최적의 alpha 값을 텍스트 셀에 작성**한다.\n",
        "- alpha 값은 아래의 리스트를 사용한다.  \n",
        "```alpha = [0.0001, 0.001,0.01,0.1,10]```\n",
        "- alpha 값에 대한 R2 score의 변화를 그래프로 나타낸다.\n",
        "  * **x축: alpha 값**\n",
        "  * **y축: R2 score 값**\n",
        "  * 파란색 선: Ridge 결과, 빨간색 선: Lasso 결과\n",
        "  * 그래프에 **legend**가 포함되어 있어야 한다. \n",
        "- **train과 validation dataset을 합하여 train set을 만든 후 최종 학습 결과를 도출**한다.\n",
        "  * 최적의 alpha 값을 찾을 때 사용한 test set은 변하지 않는다. \n",
        "  * r2 score를 사용하여 train set에 대한 prediction 결과와 test set에 대한 prediction 결과를 구해 print 한다."
      ],
      "metadata": {
        "id": "0OGUhsrgEwR_"
      }
    },
    {
      "cell_type": "code",
      "source": [
        "### 문제 4-3 ###\n",
        "## 코드 작성 ##\n",
        "from sklearn.linear_model import Ridge, Lasso\n",
        "\n",
        "# train : validation : test = 8 : 1 : 1\n",
        "x_train, x_val, y_train, y_val = train_test_split(x_train, y_train, test_size=1/9)\n",
        "\n",
        "alpha = [0.0001, 0.001,0.01,0.1,10]\n",
        "lasso_score = []\n",
        "ridge_score = []\n",
        "\n",
        "#최적의 alpha값 찾기\n",
        "for a in alpha:\n",
        "  lasso = Lasso(alpha=a).fit(x_train,y_train)\n",
        "  ridge = Ridge(alpha=a).fit(x_train,y_train)\n",
        "\n",
        "  lasso_pred = lasso.predict(x_val) \n",
        "  ridge_pred = ridge.predict(x_val) \n",
        "\n",
        "  lasso_r2 = metrics.r2_score(y_val, lasso_pred)\n",
        "  ridge_r2 = metrics.r2_score(y_val, ridge_pred)\n",
        "\n",
        "  lasso_score.append(lasso_r2)\n",
        "  ridge_score.append(ridge_r2)\n",
        "\n",
        "print(lasso_score)\n",
        "print(ridge_score)\n",
        "\n",
        "\n",
        "\n"
      ],
      "metadata": {
        "id": "5XHRyFjsZyJ5",
        "colab": {
          "base_uri": "https://localhost:8080/"
        },
        "outputId": "fd82f333-fd3d-4ada-d697-2852ed85dedc"
      },
      "execution_count": 70,
      "outputs": [
        {
          "output_type": "stream",
          "name": "stdout",
          "text": [
            "[0.47549290527728927, 0.47551078442417904, 0.4756697539763143, 0.47527725782117514, -0.00016386223920594745]\n",
            "[0.4754908965157263, 0.47549089702993164, 0.4754909021719682, 0.4754909535906383, 0.4754965908280212]\n"
          ]
        }
      ]
    },
    {
      "cell_type": "code",
      "source": [
        "### 문제 4-3 ###\n",
        "## 그래프 작성 ##\n",
        "plt.plot(alpha, lasso_score, 'r', label='Lasso Regression score')\n",
        "plt.plot(alpha, ridge_score, 'b', label='Ridge Regression score')\n",
        "plt.xlabel('alpha')\n",
        "plt.ylabel('R2 score')\n",
        "plt.legend()\n",
        "plt.show()\n"
      ],
      "metadata": {
        "id": "2ZJbj9r2Z4LP",
        "colab": {
          "base_uri": "https://localhost:8080/",
          "height": 279
        },
        "outputId": "8b718f87-e211-4b3a-e21f-1d7a9bad8481"
      },
      "execution_count": 69,
      "outputs": [
        {
          "output_type": "display_data",
          "data": {
            "text/plain": [
              "<Figure size 432x288 with 1 Axes>"
            ],
            "image/png": "[encoded data removed]"
          },
          "metadata": {
            "needs_background": "light"
          }
        }
      ]
    },
    {
      "cell_type": "markdown",
      "source": [
        "- Rridge regression 모델 최적의 alpha 값: 10\n",
        "- Lasso regression 모델 최적의 alpha 값: 0.01"
      ],
      "metadata": {
        "id": "DS8x1JmkZ6Yl"
      }
    },
    {
      "cell_type": "code",
      "source": [
        "### 문제 4-3 ###\n",
        "# 최종 결과 출력\n",
        "\n",
        "#train set과 validation set합치기\n",
        "x_all = [x_train,x_val]\n",
        "y_all = [y_train,y_val]\n",
        "x_new_train = pd.concat(x_all, ignore_index=True)\n",
        "y_new_train = pd.concat(y_all, ignore_index=True)\n",
        "\n",
        "#최적의 파라미터 Rridge regression , alpha = 10 / Lasso regression, alpha=0.01\n",
        "lasso = Lasso(alpha=0.01).fit(x_new_train,y_new_train)\n",
        "ridge = Ridge(alpha=10).fit(x_new_train,y_new_train)\n",
        "\n",
        "#train set에 대한 prediction 결과\n",
        "print(\"<Train>\")\n",
        "lasso_pred = lasso.predict(x_train) \n",
        "ridge_pred = ridge.predict(x_train) \n",
        "lasso_r2 = metrics.r2_score(y_train, lasso_pred)\n",
        "ridge_r2 = metrics.r2_score(y_train, ridge_pred)\n",
        "print(\"Rridge regression : %.3F\\tLasso regression  : %.3f\"%(ridge_r2,lasso_r2))\n",
        "\n",
        "#test set에 대한 prediction 결과\n",
        "print(\"<Test>\")\n",
        "lasso_pred = lasso.predict(x_test) \n",
        "ridge_pred = ridge.predict(x_test) \n",
        "lasso_r2 = metrics.r2_score(y_test, lasso_pred)\n",
        "ridge_r2 = metrics.r2_score(y_test, ridge_pred)\n",
        "print(\"Rridge regression : %.3F\\tLasso regression  : %.3f\"%(ridge_r2,lasso_r2))\n",
        "\n"
      ],
      "metadata": {
        "id": "zio0ZtfdiXCF",
        "colab": {
          "base_uri": "https://localhost:8080/"
        },
        "outputId": "a0f3152e-43c6-4083-f0a7-5c3132ffdfe9"
      },
      "execution_count": 72,
      "outputs": [
        {
          "output_type": "stream",
          "name": "stdout",
          "text": [
            "<Train>\n",
            "Rridge regression : 0.478\tLasso regression  : 0.478\n",
            "<Test>\n",
            "Rridge regression : 0.443\tLasso regression  : 0.443\n"
          ]
        }
      ]
    }
  ]
}
